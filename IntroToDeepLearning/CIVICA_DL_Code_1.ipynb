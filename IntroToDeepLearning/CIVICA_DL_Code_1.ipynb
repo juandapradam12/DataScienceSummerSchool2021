{
 "cells": [
  {
   "cell_type": "markdown",
   "metadata": {
    "colab_type": "text",
    "id": "view-in-github"
   },
   "source": [
    "<a href=\"https://colab.research.google.com/github/chrisguarnold/civica_dl_class/blob/main/CIVICA_DL_Code_1.ipynb\" target=\"_parent\"><img src=\"https://colab.research.google.com/assets/colab-badge.svg\" alt=\"Open In Colab\"/></a>"
   ]
  },
  {
   "cell_type": "markdown",
   "metadata": {
    "id": "kzEPcjc__9gz"
   },
   "source": [
    "\n",
    "# Code Nr. 1: The MNIST Data Set\n",
    "## Introduction to Deep Learning\n",
    "## Civica Data Science Summer School, 29.7.2021\n",
    "Christian Arnold, Cardiff University\n",
    "\n",
    "\n"
   ]
  },
  {
   "cell_type": "markdown",
   "metadata": {
    "id": "WeJmfBQ3ArHJ"
   },
   "source": [
    "## 1 Housekeeping"
   ]
  },
  {
   "cell_type": "code",
   "execution_count": null,
   "metadata": {
    "id": "ee90VrAo7Wu1"
   },
   "outputs": [],
   "source": [
    "# libraries\n",
    "install.packages('keras')\n",
    "library(keras)"
   ]
  },
  {
   "cell_type": "code",
   "execution_count": null,
   "metadata": {
    "id": "kCZ9MXqo7rXE"
   },
   "outputs": [],
   "source": [
    "# download data\n",
    "mnist <- dataset_mnist()"
   ]
  },
  {
   "cell_type": "markdown",
   "metadata": {
    "id": "pN0fm2RNCKOZ"
   },
   "source": [
    "## 2 Preparing Data"
   ]
  },
  {
   "cell_type": "code",
   "execution_count": null,
   "metadata": {
    "id": "aPWNTuNjCrlr"
   },
   "outputs": [],
   "source": [
    "# train data\n",
    "train_images <- mnist$train$x\n",
    "str(train_images)"
   ]
  },
  {
   "cell_type": "code",
   "execution_count": null,
   "metadata": {
    "id": "pgfrIEdzCrjS"
   },
   "outputs": [],
   "source": [
    "train_images <- array_reshape(train_images, c(60000, 28*28))\n",
    "str(train_images)"
   ]
  },
  {
   "cell_type": "code",
   "execution_count": null,
   "metadata": {
    "id": "PuKAi0xcCrg5"
   },
   "outputs": [],
   "source": [
    "train_images <- train_images/255"
   ]
  },
  {
   "cell_type": "code",
   "execution_count": null,
   "metadata": {
    "id": "GIMLESA_Cref"
   },
   "outputs": [],
   "source": [
    "# test data \n",
    "test_images <- mnist$test$x\n",
    "test_images <- array_reshape(test_images, c(10000, 28*28))\n",
    "test_images <- test_images/255\n",
    "str(test_images) "
   ]
  },
  {
   "cell_type": "code",
   "execution_count": null,
   "metadata": {
    "id": "MlfUzatKCrb8"
   },
   "outputs": [],
   "source": [
    "# targets\n",
    "train_labels <- mnist$train$y\n",
    "train_labels[1:10]\n"
   ]
  },
  {
   "cell_type": "code",
   "execution_count": null,
   "metadata": {
    "id": "fursc0C0CrZc"
   },
   "outputs": [],
   "source": [
    "test_labels <- mnist$test$y\n",
    "train_labels <- to_categorical(train_labels)\n",
    "test_labels <- to_categorical(test_labels)\n",
    "str(train_labels)"
   ]
  },
  {
   "cell_type": "markdown",
   "metadata": {
    "id": "WIhAn9Z9DcRB"
   },
   "source": [
    "## 3 Model"
   ]
  },
  {
   "cell_type": "code",
   "execution_count": null,
   "metadata": {
    "id": "6IJR-W16CrWb"
   },
   "outputs": [],
   "source": [
    "# Define the Network Architecture\n",
    "network <- keras_model_sequential() %>% \n",
    "    layer_dense(units = 512, activation = \"relu\", input_shape = c(28*28)) %>%\n",
    "    layer_dense(units = 10, activation = \"softmax\")"
   ]
  },
  {
   "cell_type": "code",
   "execution_count": null,
   "metadata": {
    "id": "Za1c108LCrTZ"
   },
   "outputs": [],
   "source": [
    "# Compile \n",
    "network %>% compile(\n",
    "    optimizer = 'rmsprop',\n",
    "    loss = 'categorical_crossentropy',\n",
    "    metrics = c('accuracy')\n",
    ")"
   ]
  },
  {
   "cell_type": "markdown",
   "metadata": {
    "id": "3iMWivRxEEdM"
   },
   "source": [
    "## 4 Train"
   ]
  },
  {
   "cell_type": "code",
   "execution_count": null,
   "metadata": {
    "id": "iPLZezS58IHm"
   },
   "outputs": [],
   "source": [
    "# Running the model\n",
    "history <- network %>% fit(train_images, train_labels, epochs = 5, batch_size = 128)"
   ]
  },
  {
   "cell_type": "code",
   "execution_count": null,
   "metadata": {
    "id": "1rdF8qdZ8sxL"
   },
   "outputs": [],
   "source": [
    "# Visualise Results\n",
    "plot(history)"
   ]
  }
 ],
 "metadata": {
  "colab": {
   "authorship_tag": "ABX9TyOI2UkcK5vW44DoTRAJqU9K",
   "collapsed_sections": [],
   "include_colab_link": true,
   "name": "CIVICA_DL_Code_1.ipynb",
   "provenance": []
  },
  "kernelspec": {
   "display_name": "Python 3",
   "language": "python",
   "name": "python3"
  },
  "language_info": {
   "codemirror_mode": {
    "name": "ipython",
    "version": 3
   },
   "file_extension": ".py",
   "mimetype": "text/x-python",
   "name": "python",
   "nbconvert_exporter": "python",
   "pygments_lexer": "ipython3",
   "version": "3.8.8"
  }
 },
 "nbformat": 4,
 "nbformat_minor": 1
}
