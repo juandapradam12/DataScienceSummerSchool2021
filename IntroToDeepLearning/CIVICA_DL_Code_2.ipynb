{
  "nbformat": 4,
  "nbformat_minor": 0,
  "metadata": {
    "colab": {
      "name": "CIVICA_DL_Code_2.ipynb",
      "private_outputs": true,
      "provenance": [],
      "collapsed_sections": [],
      "authorship_tag": "ABX9TyNqVs4r2NLAJGwkxLobFCDP",
      "include_colab_link": true
    },
    "kernelspec": {
      "name": "ir",
      "display_name": "R"
    },
    "language_info": {
      "name": "R"
    }
  },
  "cells": [
    {
      "cell_type": "markdown",
      "metadata": {
        "id": "view-in-github",
        "colab_type": "text"
      },
      "source": [
        "<a href=\"https://colab.research.google.com/github/chrisguarnold/civica_dl_class/blob/main/CIVICA_DL_Code_2.ipynb\" target=\"_parent\"><img src=\"https://colab.research.google.com/assets/colab-badge.svg\" alt=\"Open In Colab\"/></a>"
      ]
    },
    {
      "cell_type": "markdown",
      "metadata": {
        "id": "eWhj379PjIfX"
      },
      "source": [
        "\n",
        "# Code Nr. 2: MNIST Data Set Revisited\n",
        "## Introduction to Deep Learning\n",
        "## Civica Data Science Summer School, 29.7.2021\n",
        "Christian Arnold, Cardiff University\n",
        "\n",
        "\n"
      ]
    },
    {
      "cell_type": "markdown",
      "metadata": {
        "id": "QS5EzUA7jIcF"
      },
      "source": [
        "We are revisiting the MNIST code here. \n",
        "* First, we will understand what is going on.\n",
        "* Second, you will try to gather some experience with hyperparameters.\n"
      ]
    },
    {
      "cell_type": "markdown",
      "metadata": {
        "id": "gEjStLGbjISd"
      },
      "source": [
        "## 1 Housekeeping"
      ]
    },
    {
      "cell_type": "code",
      "metadata": {
        "id": "2e_EKxYWizhy"
      },
      "source": [
        "# libraries\n",
        "install.packages('keras')\n",
        "\n",
        "library(keras)"
      ],
      "execution_count": null,
      "outputs": []
    },
    {
      "cell_type": "markdown",
      "metadata": {
        "id": "dslRcm6LjR4J"
      },
      "source": [
        "## 2 Preparing Data"
      ]
    },
    {
      "cell_type": "code",
      "metadata": {
        "id": "4e7N9u3hjjH4"
      },
      "source": [
        "# Data  \n",
        "mnist <- dataset_mnist()"
      ],
      "execution_count": null,
      "outputs": []
    },
    {
      "cell_type": "code",
      "metadata": {
        "id": "gh1l1-7cjg2z"
      },
      "source": [
        "# This time, we split the data *properly* into a train, validation and test set\n",
        "\n",
        "# Images\n",
        "# train data\n",
        "train_images <- mnist$train$x\n",
        "train_images <- array_reshape(train_images, c(60000, 28*28))\n",
        "train_images <- train_images/255\n",
        "str(train_images)\n",
        "\n",
        "# training and validation data \n",
        "val_indices <- 1:10000\n",
        "val_images <- train_images[val_indices,]\n",
        "train_images_partial <- train_images[-val_indices,]\n",
        "str(val_images)\n",
        "str(train_images_partial)\n",
        "\n",
        "# test data \n",
        "test_images <- mnist$test$x\n",
        "test_images <- array_reshape(test_images, c(10000, 28*28))\n",
        "test_images <- test_images/255\n",
        "str(test_images) \n",
        "\n",
        "# targets\n",
        "train_labels <- mnist$train$y\n",
        "val_labels <- train_labels[val_indices]\n",
        "train_labels_partial <- train_labels[-val_indices]\n",
        "test_labels <- mnist$test$y\n",
        "\n",
        "train_labels_partial <- to_categorical(train_labels_partial)\n",
        "val_labels <- to_categorical(val_labels)\n",
        "test_labels <- to_categorical(test_labels)"
      ],
      "execution_count": null,
      "outputs": []
    },
    {
      "cell_type": "markdown",
      "metadata": {
        "id": "FL0YT5qKjR18"
      },
      "source": [
        "## 3 This is How It Works\n"
      ]
    },
    {
      "cell_type": "markdown",
      "metadata": {
        "id": "ZiqnMfO1jRyv"
      },
      "source": [
        "### 3.1 Model"
      ]
    },
    {
      "cell_type": "code",
      "metadata": {
        "id": "5wG-HpDaj5a9"
      },
      "source": [
        "# A Simple Network Architecture \n",
        "network <- keras_model_sequential() %>% \n",
        "    layer_dense(units = 32, activation = \"relu\", input_shape = c(28*28)) %>%\n",
        "    layer_dense(units = 10, activation = \"softmax\")"
      ],
      "execution_count": null,
      "outputs": []
    },
    {
      "cell_type": "code",
      "metadata": {
        "id": "FCm4DV9mj85f"
      },
      "source": [
        "# Compile \n",
        "network %>% compile(\n",
        "    optimizer = 'rmsprop',\n",
        "    loss = 'categorical_crossentropy',\n",
        "    metrics = c('accuracy')\n",
        ")"
      ],
      "execution_count": null,
      "outputs": []
    },
    {
      "cell_type": "markdown",
      "metadata": {
        "id": "njhDXGeujRmH"
      },
      "source": [
        "### 3.2 Train"
      ]
    },
    {
      "cell_type": "code",
      "metadata": {
        "id": "yj4MPBG9j_jV"
      },
      "source": [
        "# Train and validate\n",
        "history <- network %>% fit(\n",
        "    train_images_partial,\n",
        "    train_labels_partial,\n",
        "    epochs = 20,\n",
        "    batch_size = 512,\n",
        "    validation_data = list(val_images, val_labels)\n",
        ")"
      ],
      "execution_count": null,
      "outputs": []
    },
    {
      "cell_type": "markdown",
      "metadata": {
        "id": "KUpcSIFikM1K"
      },
      "source": [
        "*Then the hyperparametertuning happens here (see exercises below)*"
      ]
    },
    {
      "cell_type": "code",
      "metadata": {
        "id": "A64tksWpjPLw"
      },
      "source": [
        "# Once you are happy with the hyperparameters, predict out of sample\n",
        "network %>% evaluate(test_images, test_labels)"
      ],
      "execution_count": null,
      "outputs": []
    },
    {
      "cell_type": "code",
      "metadata": {
        "id": "CqjQ_8sRkilX"
      },
      "source": [
        "network %>% predict_classes(test_images)"
      ],
      "execution_count": null,
      "outputs": []
    },
    {
      "cell_type": "markdown",
      "metadata": {
        "id": "RcLPE7rfklYU"
      },
      "source": [
        "## 4 Exercises: Learning How to Tune Hyperparameters\n",
        "\n",
        "* Play around with different hyperparameters (see below) \n",
        "* Learn how the neural net is reacting to them"
      ]
    },
    {
      "cell_type": "markdown",
      "metadata": {
        "id": "1ljlRMCAkz57"
      },
      "source": [
        "### Exercise 1: Different Network Architectures\n",
        "* When does learning kick in on the training data? \n",
        "* When does the validation data follow?\n",
        "* Can you control these moments?"
      ]
    },
    {
      "cell_type": "code",
      "metadata": {
        "id": "ozcimlBok-6-"
      },
      "source": [
        "# Try a narrow and shallow net \n",
        "network <- keras_model_sequential() %>% \n",
        "    layer_dense(units = 16, activation = \"relu\", input_shape = c(28*28)) %>%\n",
        "    layer_dense(units = 10, activation = \"softmax\")"
      ],
      "execution_count": null,
      "outputs": []
    },
    {
      "cell_type": "code",
      "metadata": {
        "id": "z5DwzkKNk-4A"
      },
      "source": [
        "# This is the compile and evaluation block. \n",
        "# Repeat it below on your own or reuse this block.\n",
        "network %>% compile(\n",
        "    optimizer = 'rmsprop',\n",
        "    loss = 'categorical_crossentropy',\n",
        "    metrics = c('accuracy')\n",
        ")\n",
        "\n",
        "history <- network %>% fit(\n",
        "    train_images_partial,\n",
        "    train_labels_partial,\n",
        "    epochs = 20,\n",
        "    batch_size = 512,\n",
        "    validation_data = list(val_images, val_labels)\n",
        ")\n",
        "max(history$metrics$val_accuracy)\n",
        "plot(history)"
      ],
      "execution_count": null,
      "outputs": []
    },
    {
      "cell_type": "code",
      "metadata": {
        "id": "W2H8Yy9ik-vK"
      },
      "source": [
        "# Try a narrow and deep net \n",
        "network <- keras_model_sequential() %>% \n",
        "    layer_dense(units = 16, activation = \"relu\", input_shape = c(28*28)) %>%\n",
        "    layer_dense(units = 16, activation = \"relu\") %>%\n",
        "    layer_dense(units = 16, activation = \"relu\") %>%\n",
        "    layer_dense(units = 16, activation = \"relu\") %>%\n",
        "    layer_dense(units = 16, activation = \"relu\") %>%\n",
        "    layer_dense(units = 10, activation = \"softmax\")\n",
        "\n",
        "# Compile and Evaluate..."
      ],
      "execution_count": null,
      "outputs": []
    },
    {
      "cell_type": "code",
      "metadata": {
        "id": "hnf2FZNOkMkp"
      },
      "source": [
        "# Try a wide and shallow net \n",
        "network <- keras_model_sequential() %>% \n",
        "    layer_dense(units = 256, activation = \"relu\", input_shape = c(28*28)) %>%\n",
        "    layer_dense(units = 10, activation = \"softmax\")\n",
        "\n",
        "# Compile and Evaluate..."
      ],
      "execution_count": null,
      "outputs": []
    },
    {
      "cell_type": "code",
      "metadata": {
        "id": "1Vj7s18vk127"
      },
      "source": [
        "# Try a wide and deep net \n",
        "network <- keras_model_sequential() %>% \n",
        "    layer_dense(units = 256, activation = \"relu\", input_shape = c(28*28)) %>%\n",
        "    layer_dense(units = 256, activation = \"relu\") %>%\n",
        "    layer_dense(units = 256, activation = \"relu\") %>%\n",
        "    layer_dense(units = 256, activation = \"relu\") %>%\n",
        "    layer_dense(units = 256, activation = \"relu\") %>%\n",
        "    layer_dense(units = 256, activation = \"relu\") %>%\n",
        "    layer_dense(units = 256, activation = \"relu\") %>%\n",
        "    layer_dense(units = 256, activation = \"relu\") %>%\n",
        "    layer_dense(units = 256, activation = \"relu\") %>%\n",
        "    layer_dense(units = 10, activation = \"softmax\")\n",
        "\n",
        "# Compile and Evaluate..."
      ],
      "execution_count": null,
      "outputs": []
    },
    {
      "cell_type": "code",
      "metadata": {
        "id": "Yo6JMRdFk10T"
      },
      "source": [
        "# Try a net that starts wide and grows more narrow the deeper it gets\n",
        "network <- keras_model_sequential() %>% \n",
        "    layer_dense(units = 512, activation = \"relu\", input_shape = c(28*28)) %>%\n",
        "    layer_dense(units = 256, activation = \"relu\") %>%\n",
        "    layer_dense(units = 128, activation = \"relu\") %>%\n",
        "    layer_dense(units = 10, activation = \"softmax\")\n",
        "\n",
        "# Compile and Evaluate..."
      ],
      "execution_count": null,
      "outputs": []
    },
    {
      "cell_type": "markdown",
      "metadata": {
        "id": "Xcx3FBIclgFC"
      },
      "source": [
        "### Exercise 2: Different Activation Functions\n",
        "\n",
        "* What do you observe regarding accuracy and loss?\n",
        "* What do you observe regarding training time?"
      ]
    },
    {
      "cell_type": "code",
      "metadata": {
        "id": "c44XXLs-lpTj"
      },
      "source": [
        "# Sigmoid\n",
        "network <- keras_model_sequential() %>% \n",
        "    layer_dense(units = 512, activation = \"sigmoid\", input_shape = c(28*28)) %>%\n",
        "    layer_dense(units = 256, activation = \"sigmoid\") %>%\n",
        "    layer_dense(units = 128, activation = \"sigmoid\") %>%\n",
        "    layer_dense(units = 10, activation = \"softmax\")"
      ],
      "execution_count": null,
      "outputs": []
    },
    {
      "cell_type": "code",
      "metadata": {
        "id": "yANKebdnlpLg"
      },
      "source": [
        "# Compile and Evaluate\n",
        "network %>% compile(\n",
        "    optimizer = 'rmsprop',\n",
        "    loss = 'categorical_crossentropy',\n",
        "    metrics = c('accuracy')\n",
        ")\n",
        "\n",
        "history <- network %>% fit(\n",
        "    train_images_partial,\n",
        "    train_labels_partial,\n",
        "    epochs = 20,\n",
        "    batch_size = 512,\n",
        "    validation_data = list(val_images, val_labels)\n",
        ")\n",
        "max(history$metrics$val_accuracy)\n",
        "plot(history) "
      ],
      "execution_count": null,
      "outputs": []
    },
    {
      "cell_type": "code",
      "metadata": {
        "id": "M_k_2zDRk1yZ"
      },
      "source": [
        "# Tanh\n",
        "network <- keras_model_sequential() %>% \n",
        "    layer_dense(units = 512, activation = \"tanh\", input_shape = c(28*28)) %>%\n",
        "    layer_dense(units = 256, activation = \"tanh\") %>%\n",
        "    layer_dense(units = 128, activation = \"tanh\") %>%\n",
        "    layer_dense(units = 10, activation = \"softmax\")\n",
        "\n",
        "# Compile and Evaluate..."
      ],
      "execution_count": null,
      "outputs": []
    },
    {
      "cell_type": "code",
      "metadata": {
        "id": "3-Av64srk1v8"
      },
      "source": [
        "# Relu\n",
        "network <- keras_model_sequential() %>% \n",
        "    layer_dense(units = 512, activation = \"relu\", input_shape = c(28*28)) %>%\n",
        "    layer_dense(units = 256, activation = \"relu\") %>%\n",
        "    layer_dense(units = 128, activation = \"relu\") %>%\n",
        "    layer_dense(units = 10, activation = \"softmax\")\n",
        "\n",
        "# Compile and Evaluate..."
      ],
      "execution_count": null,
      "outputs": []
    },
    {
      "cell_type": "markdown",
      "metadata": {
        "id": "zUU0_oYPobVx"
      },
      "source": [
        "### Exercise 3: Different Learning Rates\n",
        "* What do you observe regarding train and test loss and accuracy?\n"
      ]
    },
    {
      "cell_type": "code",
      "metadata": {
        "id": "7oV6QSYBqNWI"
      },
      "source": [
        "# Use this model\n",
        "network <- keras_model_sequential() %>% \n",
        "    layer_dense(units = 512, activation = \"relu\", input_shape = c(28*28)) %>%\n",
        "    layer_dense(units = 256, activation = \"relu\") %>%\n",
        "    layer_dense(units = 128, activation = \"relu\") %>%\n",
        "    layer_dense(units = 10, activation = \"softmax\")"
      ],
      "execution_count": null,
      "outputs": []
    },
    {
      "cell_type": "code",
      "metadata": {
        "id": "8FWmNiS3k1tz"
      },
      "source": [
        "# Compile \n",
        "network %>% compile(\n",
        "    optimizer = optimizer_rmsprop(lr=0.001),\n",
        "    loss = \"categorical_crossentropy\",\n",
        "    metrics = c(\"accuracy\")\n",
        ")"
      ],
      "execution_count": null,
      "outputs": []
    },
    {
      "cell_type": "code",
      "metadata": {
        "id": "bU_jh5DGqVyU"
      },
      "source": [
        "# Evaluate\n",
        "history <- network %>% fit(\n",
        "    train_images_partial,\n",
        "    train_labels_partial,\n",
        "    epochs = 20,\n",
        "    batch_size = 512,\n",
        "    validation_data = list(val_images, val_labels)\n",
        ")\n",
        "max(history$metrics$val_accuracy)\n",
        "plot(history)"
      ],
      "execution_count": null,
      "outputs": []
    },
    {
      "cell_type": "code",
      "metadata": {
        "id": "wqXi1626k1rh"
      },
      "source": [
        "network %>% compile(\n",
        "    optimizer = optimizer_rmsprop(lr=0.01),\n",
        "    loss = \"categorical_crossentropy\",\n",
        "    metrics = c(\"accuracy\")\n",
        ")\n",
        "\n",
        "# Evaluate..."
      ],
      "execution_count": null,
      "outputs": []
    },
    {
      "cell_type": "code",
      "metadata": {
        "id": "YrGgWeWDk1pT"
      },
      "source": [
        "network %>% compile(\n",
        "    optimizer = optimizer_rmsprop(lr=0.1),\n",
        "    loss = \"categorical_crossentropy\",\n",
        "    metrics = c(\"accuracy\")\n",
        ")\n",
        "\n",
        "# Evaluate..."
      ],
      "execution_count": null,
      "outputs": []
    },
    {
      "cell_type": "markdown",
      "metadata": {
        "id": "160TvlBEpQtK"
      },
      "source": [
        "### Exercise 4: Different Optimizers\n",
        "* What do you observe regarding train and test loss and accuracy?"
      ]
    },
    {
      "cell_type": "code",
      "metadata": {
        "id": "Yai8u4pdqnbp"
      },
      "source": [
        "# Use this model\n",
        "network <- keras_model_sequential() %>% \n",
        "    layer_dense(units = 512, activation = \"relu\", input_shape = c(28*28)) %>%\n",
        "    layer_dense(units = 256, activation = \"relu\") %>%\n",
        "    layer_dense(units = 128, activation = \"relu\") %>%\n",
        "    layer_dense(units = 10, activation = \"softmax\")"
      ],
      "execution_count": null,
      "outputs": []
    },
    {
      "cell_type": "code",
      "metadata": {
        "id": "H9iHO_0Vk1ms"
      },
      "source": [
        "# Compile\n",
        "network %>% compile(\n",
        "    optimizer = 'sgd',\n",
        "    loss = 'categorical_crossentropy',\n",
        "    metrics = c('accuracy')\n",
        ")"
      ],
      "execution_count": null,
      "outputs": []
    },
    {
      "cell_type": "code",
      "metadata": {
        "id": "xvPVdQb4qtxX"
      },
      "source": [
        "# Evaluate\n",
        "history <- network %>% fit(\n",
        "    train_images_partial,\n",
        "    train_labels_partial,\n",
        "    epochs = 20,\n",
        "    batch_size = 512,\n",
        "    validation_data = list(val_images, val_labels)\n",
        ")\n",
        "max(history$metrics$val_accuracy)\n",
        "plot(history)"
      ],
      "execution_count": null,
      "outputs": []
    },
    {
      "cell_type": "code",
      "metadata": {
        "id": "Ae1efhOrpaHn"
      },
      "source": [
        "# Compile\n",
        "network %>% compile(\n",
        "    optimizer = 'adam',\n",
        "    loss = 'categorical_crossentropy',\n",
        "    metrics = c('accuracy')\n",
        ")\n",
        "\n",
        "# Evaluate..."
      ],
      "execution_count": null,
      "outputs": []
    },
    {
      "cell_type": "code",
      "metadata": {
        "id": "xfYtminvk1j-"
      },
      "source": [
        "# Compile\n",
        "network %>% compile(\n",
        "    optimizer = 'rmsprop',\n",
        "    loss = 'categorical_crossentropy',\n",
        "    metrics = c('accuracy')\n",
        ")\n",
        "\n",
        "# Evaluate..."
      ],
      "execution_count": null,
      "outputs": []
    },
    {
      "cell_type": "markdown",
      "metadata": {
        "id": "q5tA0Z7kpwQm"
      },
      "source": [
        "### Exercise 5: Different Batch Sizes\n",
        "* Use a standard model and the rmsprop standard setting \n",
        "* Don't forget to recompile before every new run. \n",
        "\n",
        "    \n"
      ]
    },
    {
      "cell_type": "code",
      "metadata": {
        "id": "fqUyRYEkq9Ww"
      },
      "source": [
        "# Use this model\n",
        "network <- keras_model_sequential() %>% \n",
        "    layer_dense(units = 512, activation = \"relu\", input_shape = c(28*28)) %>%\n",
        "    layer_dense(units = 256, activation = \"relu\") %>%\n",
        "    layer_dense(units = 128, activation = \"relu\") %>%\n",
        "    layer_dense(units = 10, activation = \"softmax\")"
      ],
      "execution_count": null,
      "outputs": []
    },
    {
      "cell_type": "code",
      "metadata": {
        "id": "hRiNGMOTq9Tp"
      },
      "source": [
        "# Use these compiler settings\n",
        "network %>% compile(\n",
        "    optimizer = 'rmsprop',\n",
        "    loss = 'categorical_crossentropy',\n",
        "    metrics = c('accuracy')\n",
        ")"
      ],
      "execution_count": null,
      "outputs": []
    },
    {
      "cell_type": "code",
      "metadata": {
        "id": "VGZNHVdbq9KG"
      },
      "source": [
        "# Evaluate (takes a while!)\n",
        "history <- network %>% fit(\n",
        "    train_images_partial,\n",
        "    train_labels_partial,\n",
        "    epochs = 20,\n",
        "    batch_size = 32,\n",
        "    validation_data = list(val_images, val_labels)\n",
        ")\n",
        "max(history$metrics$val_accuracy)\n",
        "plot(history)"
      ],
      "execution_count": null,
      "outputs": []
    },
    {
      "cell_type": "code",
      "metadata": {
        "id": "Egu-_EM4k1hO"
      },
      "source": [
        "# Evaluate\n",
        "history <- network %>% fit(\n",
        "    train_images_partial,\n",
        "    train_labels_partial,\n",
        "    epochs = 20,\n",
        "    batch_size = 512,\n",
        "    validation_data = list(val_images, val_labels)\n",
        ")\n",
        "max(history$metrics$val_accuracy)\n",
        "plot(history)"
      ],
      "execution_count": null,
      "outputs": []
    },
    {
      "cell_type": "code",
      "metadata": {
        "id": "Wg9K9Ohck1ek"
      },
      "source": [
        "# Evaluate\n",
        "history <- network %>% fit(\n",
        "    train_images_partial,\n",
        "    train_labels_partial,\n",
        "    epochs = 20,\n",
        "    batch_size = 2056,\n",
        "    validation_data = list(val_images, val_labels)\n",
        ")\n",
        "max(history$metrics$val_accuracy)\n",
        "plot(history)"
      ],
      "execution_count": null,
      "outputs": []
    },
    {
      "cell_type": "markdown",
      "metadata": {
        "id": "SUXmj16gs-NN"
      },
      "source": [
        "## 5 Takeaway\n",
        "The big lesson to be learned is how sensitive neural nets are. \n",
        "* Depending on their set-up, they can yield dramatically different results.\n",
        "* Neural nets are not 'a model', but rather a whole class of models."
      ]
    }
  ]
}