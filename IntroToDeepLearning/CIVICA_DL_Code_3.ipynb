{
  "nbformat": 4,
  "nbformat_minor": 0,
  "metadata": {
    "colab": {
      "name": "CIVICA_DL_Code_3.ipynb",
      "private_outputs": true,
      "provenance": [],
      "collapsed_sections": [],
      "toc_visible": true,
      "authorship_tag": "ABX9TyMYb+vHPT053rMf8cSCs195",
      "include_colab_link": true
    },
    "kernelspec": {
      "name": "ir",
      "display_name": "R"
    },
    "language_info": {
      "name": "R"
    }
  },
  "cells": [
    {
      "cell_type": "markdown",
      "metadata": {
        "id": "view-in-github",
        "colab_type": "text"
      },
      "source": [
        "<a href=\"https://colab.research.google.com/github/chrisguarnold/civica_dl_class/blob/main/CIVICA_DL_Code_3.ipynb\" target=\"_parent\"><img src=\"https://colab.research.google.com/assets/colab-badge.svg\" alt=\"Open In Colab\"/></a>"
      ]
    },
    {
      "cell_type": "markdown",
      "metadata": {
        "id": "RBonsiLmas2R"
      },
      "source": [
        "\n",
        "# Code Nr. 3: The Boston House Price Data Set\n",
        "## Introduction to Deep Learning\n",
        "## Civica Data Science Summer School, 29.7.2021\n",
        "Christian Arnold, Cardiff University\n",
        "\n"
      ]
    },
    {
      "cell_type": "markdown",
      "metadata": {
        "id": "L3jEkoOwazkh"
      },
      "source": [
        "\n",
        "* The goal: Predict house price in Boston suburb during mid 1970s\n",
        "* Features (aka variables) are e.g. crime rate, prop.tax rate, evg. number of rooms, accessibility to highway etc.\n"
      ]
    },
    {
      "cell_type": "markdown",
      "metadata": {
        "id": "kWWCnt7rcQcP"
      },
      "source": [
        "## 1 Houskeeping"
      ]
    },
    {
      "cell_type": "code",
      "metadata": {
        "id": "YH8Esetoa67u"
      },
      "source": [
        "# Libraries\n",
        "install.packages('keras')\n",
        "install.packages('ggplot2')\n",
        "\n",
        "library(keras)\n",
        "library(ggplot2)\n",
        "\n",
        "# Data \n",
        "dataset <- dataset_boston_housing()\n",
        "c(c(train_data, train_targets), c(test_data, test_targets)) %<-% dataset"
      ],
      "execution_count": null,
      "outputs": []
    },
    {
      "cell_type": "code",
      "metadata": {
        "id": "v8QxCNJpcqf-"
      },
      "source": [
        "# This is a fairly small data set\n",
        "str(train_data)\n",
        "str(test_data)\n",
        "str(train_targets)"
      ],
      "execution_count": null,
      "outputs": []
    },
    {
      "cell_type": "markdown",
      "metadata": {
        "id": "3CHSk9LqcwrI"
      },
      "source": [
        "## 2 Preparing the Data"
      ]
    },
    {
      "cell_type": "code",
      "metadata": {
        "id": "sFaM_6_Vcqd5"
      },
      "source": [
        "# Normalise\n",
        "mean <- apply(train_data, 2, mean)\n",
        "std <- apply(train_data, 2, sd)\n",
        "train_data <- scale(train_data, center = mean, scale = std)\n",
        "test_data <- scale(test_data, center = mean, scale = std)"
      ],
      "execution_count": null,
      "outputs": []
    },
    {
      "cell_type": "markdown",
      "metadata": {
        "id": "pyvSttG3dCjk"
      },
      "source": [
        "## 3 This is How it Works\n"
      ]
    },
    {
      "cell_type": "markdown",
      "metadata": {
        "id": "e3k0YJ03eOww"
      },
      "source": [
        "### 3.1 Model"
      ]
    },
    {
      "cell_type": "code",
      "metadata": {
        "id": "Vyqc_-NHcqaK"
      },
      "source": [
        "# Small data means small model\n",
        "# Let's start with something super simple\n",
        "# We will run the model multiple times in a k-fold validation, hence the function\n",
        "build_model <- function() {\n",
        "    model <- keras_model_sequential() %>%\n",
        "        layer_dense(units = 16, activation = \"relu\",\n",
        "                    input_shape = dim(train_data)[[2]]) %>%\n",
        "        layer_dense(units = 1)\n",
        "    model %>% compile(\n",
        "        optimizer = \"rmsprop\",\n",
        "        loss = \"mse\",\n",
        "        metrics = c(\"mae\")\n",
        "    ) }"
      ],
      "execution_count": null,
      "outputs": []
    },
    {
      "cell_type": "markdown",
      "metadata": {
        "id": "Y3EpgWswdMCI"
      },
      "source": [
        "### 3.2 Train"
      ]
    },
    {
      "cell_type": "code",
      "metadata": {
        "id": "TZ7npB7RcqYJ"
      },
      "source": [
        "# K-fold Validation, saving the Logs each fold \n",
        "# Since the data is fairly small, k-fold validation \n",
        "# can help 'smooth' the validation\n",
        "k <- 4\n",
        "indices <- sample(1:nrow(train_data))\n",
        "folds <- cut(indices, breaks = k, labels = FALSE)\n",
        "num_epochs <- 50\n",
        "all_val_mae_histories <- all_mae_histories <- NULL\n",
        "\n",
        "for (i in 1:k) {\n",
        "    cat(\"processing fold #\", i, \"\\n\")\n",
        "    val_indices <- which(folds == i, arr.ind = TRUE)\n",
        "    val_data <- train_data[val_indices,]\n",
        "    val_targets <- train_targets[val_indices]\n",
        "    partial_train_data <- train_data[-val_indices,]\n",
        "    partial_train_targets <- train_targets[-val_indices]\n",
        "    model <- build_model()\n",
        "    history <- model %>% fit(\n",
        "        partial_train_data, partial_train_targets,\n",
        "        validation_data = list(val_data, val_targets),\n",
        "        epochs = num_epochs, batch_size = 1, verbose = 0\n",
        "    )\n",
        "    # save all val mae\n",
        "    val_mae_history <- history$metrics$val_mae\n",
        "    all_val_mae_histories <- rbind(all_val_mae_histories, val_mae_history)\n",
        "    # save all mae\n",
        "    mae_history <- history$metrics$mae\n",
        "    all_mae_histories <- rbind(all_mae_histories, mae_history)\n",
        "}"
      ],
      "execution_count": null,
      "outputs": []
    },
    {
      "cell_type": "code",
      "metadata": {
        "id": "nL3tIfo9cqWF"
      },
      "source": [
        "# Validation scores \n",
        "average_val_mae_history <- data.frame(\n",
        "    epoch = seq(1:ncol(all_val_mae_histories)),\n",
        "    validation_mae = apply(all_val_mae_histories, 2, mean)\n",
        ")\n",
        "\n",
        "average_mae_history <- data.frame(\n",
        "    epoch = seq(1:ncol(all_mae_histories)),\n",
        "    mae = apply(all_mae_histories, 2, mean)\n",
        ")"
      ],
      "execution_count": null,
      "outputs": []
    },
    {
      "cell_type": "code",
      "metadata": {
        "id": "3VBa633HcqT9"
      },
      "source": [
        "# Plot results\n",
        "ggplot() + \n",
        "    geom_line(data = average_val_mae_history, \n",
        "              aes(x = epoch, y = validation_mae), color = 'red') + \n",
        "    geom_line(data = average_mae_history, \n",
        "              aes(x = epoch, y = mae), color = 'blue') "
      ],
      "execution_count": null,
      "outputs": []
    },
    {
      "cell_type": "code",
      "metadata": {
        "id": "QD8_Tm1Sfyu_"
      },
      "source": [
        "# or a smoothed version in case things get a little messy...\n",
        "ggplot() + \n",
        "    geom_smooth(data = average_val_mae_history, \n",
        "              aes(x = epoch, y = validation_mae), color = 'red') + \n",
        "    geom_smooth(data = average_mae_history, \n",
        "              aes(x = epoch, y = mae), color = 'blue') "
      ],
      "execution_count": null,
      "outputs": []
    },
    {
      "cell_type": "markdown",
      "metadata": {
        "id": "O9Zv44egepa-"
      },
      "source": [
        "## 4 Now Your Turn"
      ]
    },
    {
      "cell_type": "markdown",
      "metadata": {
        "id": "Vj8evz-vevKJ"
      },
      "source": [
        "* Try to balance overfitting with dropout regularization to maximize performance\n",
        "* NB: each dropout layer regularizes the previous layer"
      ]
    },
    {
      "cell_type": "code",
      "metadata": {
        "id": "l5xsdLJ0cqQZ"
      },
      "source": [
        "# This is how a very simply model would look like. \n",
        "# Go wild and build your own models by stacking more layers!\n",
        "\n",
        "build_model <- function() {\n",
        "    model <- keras_model_sequential() %>%\n",
        "        layer_dense(units = 16, activation = \"relu\",\n",
        "                    input_shape = dim(train_data)[[2]]) %>%\n",
        "        layer_dropout(0.4) %>% \n",
        "        layer_dense(units = 1)\n",
        "    model %>% compile(\n",
        "        optimizer = \"rmsprop\",\n",
        "        loss = \"mse\",\n",
        "        metrics = c(\"mae\")\n",
        "    ) }\n"
      ],
      "execution_count": null,
      "outputs": []
    },
    {
      "cell_type": "markdown",
      "metadata": {
        "id": "POgZ0YY5fUkJ"
      },
      "source": [
        "... see above for training, validation and plotting"
      ]
    },
    {
      "cell_type": "code",
      "metadata": {
        "id": "3Teq-0z0cqLy"
      },
      "source": [
        "# Once you are happy with the result of your hyperparameter tuning \n",
        "# do the out-of-sample prediction\n",
        "model <- build_model()\n",
        "model %>% fit(train_data, train_targets,\n",
        "              epochs = 80, batch_size = 16, verbose = 0)\n",
        "result <- model %>% evaluate(test_data, test_targets)\n",
        "result\n"
      ],
      "execution_count": null,
      "outputs": []
    }
  ]
}